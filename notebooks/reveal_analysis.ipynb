{
 "cells": [
  {
   "cell_type": "code",
   "execution_count": 2,
   "id": "d661fa74-63ec-40b2-a5cf-955b145e0bd1",
   "metadata": {},
   "outputs": [],
   "source": [
    "import json\n",
    "import os\n",
    "from pathlib import Path"
   ]
  },
  {
   "cell_type": "code",
   "execution_count": 3,
   "id": "a11617ff-8e8b-4198-9a38-5876c259c000",
   "metadata": {},
   "outputs": [
    {
     "data": {
      "text/plain": [
       "['vulnerables.json', 'function.json', 'non-vulnerables.json']"
      ]
     },
     "execution_count": 3,
     "metadata": {},
     "output_type": "execute_result"
    }
   ],
   "source": [
    "os.listdir('/media/sean/1TB Drive/Data/mal2vuln/vuln/reveal')"
   ]
  },
  {
   "cell_type": "code",
   "execution_count": 4,
   "id": "f38837f6-faf4-4599-af83-a17a15b98b99",
   "metadata": {},
   "outputs": [],
   "source": [
    "path = Path('/media/sean/1TB Drive/Data/mal2vuln/vuln/reveal')"
   ]
  },
  {
   "cell_type": "code",
   "execution_count": 19,
   "id": "50d1ee62-8205-4639-908e-72c83d9ad970",
   "metadata": {},
   "outputs": [],
   "source": [
    "with open(path / 'function.json') as f:\n",
    "    d = json.load(f)"
   ]
  },
  {
   "cell_type": "code",
   "execution_count": 20,
   "id": "ef098e73-7e73-41f2-921e-8add9bf8f1c9",
   "metadata": {},
   "outputs": [
    {
     "data": {
      "text/plain": [
       "27318"
      ]
     },
     "execution_count": 20,
     "metadata": {},
     "output_type": "execute_result"
    }
   ],
   "source": [
    "len(d)"
   ]
  },
  {
   "cell_type": "code",
   "execution_count": 22,
   "id": "c1f5b0b6-e02e-4d95-8c57-2ed7f5fc65ae",
   "metadata": {},
   "outputs": [
    {
     "data": {
      "text/plain": [
       "{'project': 'FFmpeg',\n",
       " 'commit_id': '973b1a6b9070e2bf17d17568cbaf4043ce931f51',\n",
       " 'target': 0,\n",
       " 'func': 'static av_cold int vdadec_init(AVCodecContext *avctx)\\n\\n{\\n\\n    VDADecoderContext *ctx = avctx->priv_data;\\n\\n    struct vda_context *vda_ctx = &ctx->vda_ctx;\\n\\n    OSStatus status;\\n\\n    int ret;\\n\\n\\n\\n    ctx->h264_initialized = 0;\\n\\n\\n\\n    /* init pix_fmts of codec */\\n\\n    if (!ff_h264_vda_decoder.pix_fmts) {\\n\\n        if (kCFCoreFoundationVersionNumber < kCFCoreFoundationVersionNumber10_7)\\n\\n            ff_h264_vda_decoder.pix_fmts = vda_pixfmts_prior_10_7;\\n\\n        else\\n\\n            ff_h264_vda_decoder.pix_fmts = vda_pixfmts;\\n\\n    }\\n\\n\\n\\n    /* init vda */\\n\\n    memset(vda_ctx, 0, sizeof(struct vda_context));\\n\\n    vda_ctx->width = avctx->width;\\n\\n    vda_ctx->height = avctx->height;\\n\\n    vda_ctx->format = \\'avc1\\';\\n\\n    vda_ctx->use_sync_decoding = 1;\\n\\n    vda_ctx->use_ref_buffer = 1;\\n\\n    ctx->pix_fmt = avctx->get_format(avctx, avctx->codec->pix_fmts);\\n\\n    switch (ctx->pix_fmt) {\\n\\n    case AV_PIX_FMT_UYVY422:\\n\\n        vda_ctx->cv_pix_fmt_type = \\'2vuy\\';\\n\\n        break;\\n\\n    case AV_PIX_FMT_YUYV422:\\n\\n        vda_ctx->cv_pix_fmt_type = \\'yuvs\\';\\n\\n        break;\\n\\n    case AV_PIX_FMT_NV12:\\n\\n        vda_ctx->cv_pix_fmt_type = \\'420v\\';\\n\\n        break;\\n\\n    case AV_PIX_FMT_YUV420P:\\n\\n        vda_ctx->cv_pix_fmt_type = \\'y420\\';\\n\\n        break;\\n\\n    default:\\n\\n        av_log(avctx, AV_LOG_ERROR, \"Unsupported pixel format: %d\\\\n\", avctx->pix_fmt);\\n\\n        goto failed;\\n\\n    }\\n\\n    status = ff_vda_create_decoder(vda_ctx,\\n\\n                                   avctx->extradata, avctx->extradata_size);\\n\\n    if (status != kVDADecoderNoErr) {\\n\\n        av_log(avctx, AV_LOG_ERROR,\\n\\n                \"Failed to init VDA decoder: %d.\\\\n\", status);\\n\\n        goto failed;\\n\\n    }\\n\\n    avctx->hwaccel_context = vda_ctx;\\n\\n\\n\\n    /* changes callback functions */\\n\\n    avctx->get_format = get_format;\\n\\n    avctx->get_buffer2 = get_buffer2;\\n\\n#if FF_API_GET_BUFFER\\n\\n    // force the old get_buffer to be empty\\n\\n    avctx->get_buffer = NULL;\\n\\n#endif\\n\\n\\n\\n    /* init H.264 decoder */\\n\\n    ret = ff_h264_decoder.init(avctx);\\n\\n    if (ret < 0) {\\n\\n        av_log(avctx, AV_LOG_ERROR, \"Failed to open H.264 decoder.\\\\n\");\\n\\n        goto failed;\\n\\n    }\\n\\n    ctx->h264_initialized = 1;\\n\\n\\n\\n    return 0;\\n\\n\\n\\nfailed:\\n\\n    vdadec_close(avctx);\\n\\n    return -1;\\n\\n}\\n'}"
      ]
     },
     "execution_count": 22,
     "metadata": {},
     "output_type": "execute_result"
    }
   ],
   "source": [
    "d[0]"
   ]
  },
  {
   "cell_type": "code",
   "execution_count": 16,
   "id": "3398d171-1caa-4c18-b280-d7950cc9e259",
   "metadata": {},
   "outputs": [
    {
     "name": "stdout",
     "output_type": "stream",
     "text": [
      "static int alloc_addbyter ( int output , FILE * data ) {\n",
      " struct asprintf * infop = ( struct asprintf * ) data ;\n",
      " unsigned char outc = ( unsigned char ) output ;\n",
      " if ( ! infop -> buffer ) {\n",
      " infop -> buffer = malloc ( 32 ) ;\n",
      " if ( ! infop -> buffer ) {\n",
      " infop -> fail = 1 ;\n",
      " return - 1 ;\n",
      " }\n",
      " infop -> alloc = 32 ;\n",
      " infop -> len = 0 ;\n",
      " }\n",
      " else if ( infop -> len + 1 >= infop -> alloc ) {\n",
      " char * newptr ;\n",
      " newptr = realloc ( infop -> buffer , infop -> alloc * 2 ) ;\n",
      " if ( ! newptr ) {\n",
      " infop -> fail = 1 ;\n",
      " return - 1 ;\n",
      " }\n",
      " infop -> buffer = newptr ;\n",
      " infop -> alloc *= 2 ;\n",
      " }\n",
      " infop -> buffer [ infop -> len ] = outc ;\n",
      " infop -> len ++ ;\n",
      " return outc ;\n",
      " }\n"
     ]
    }
   ],
   "source": [
    "print(d[0]['code'])"
   ]
  },
  {
   "cell_type": "code",
   "execution_count": null,
   "id": "7c3312e1-1d06-4e89-9e6c-65223b3964f7",
   "metadata": {},
   "outputs": [],
   "source": []
  },
  {
   "cell_type": "code",
   "execution_count": null,
   "id": "95049704-dcbb-4524-abfb-e2dddb8f3197",
   "metadata": {},
   "outputs": [],
   "source": []
  },
  {
   "cell_type": "code",
   "execution_count": null,
   "id": "f67c173e-ba73-4907-a367-f25dcc0aaad3",
   "metadata": {},
   "outputs": [],
   "source": []
  },
  {
   "cell_type": "code",
   "execution_count": null,
   "id": "a500c2da-bb71-438b-85cc-a011294c0c6a",
   "metadata": {},
   "outputs": [],
   "source": []
  },
  {
   "cell_type": "code",
   "execution_count": null,
   "id": "b540ca66-9055-4f93-9391-b4eb3b35fff7",
   "metadata": {},
   "outputs": [],
   "source": []
  }
 ],
 "metadata": {
  "kernelspec": {
   "display_name": "Python 3 (ipykernel)",
   "language": "python",
   "name": "python3"
  },
  "language_info": {
   "codemirror_mode": {
    "name": "ipython",
    "version": 3
   },
   "file_extension": ".py",
   "mimetype": "text/x-python",
   "name": "python",
   "nbconvert_exporter": "python",
   "pygments_lexer": "ipython3",
   "version": "3.12.2"
  }
 },
 "nbformat": 4,
 "nbformat_minor": 5
}
