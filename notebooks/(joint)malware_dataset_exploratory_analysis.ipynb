{
 "cells": [
  {
   "cell_type": "code",
   "execution_count": 1,
   "id": "034a0b5b-7184-404e-8f28-8355287bcb92",
   "metadata": {},
   "outputs": [],
   "source": [
    "import matplotlib.pyplot as plt\n",
    "import os\n",
    "import pandas as pd"
   ]
  },
  {
   "cell_type": "code",
   "execution_count": 2,
   "id": "f39a9a85-463c-41de-b0da-ac837c587a97",
   "metadata": {},
   "outputs": [],
   "source": [
    "mal = pd.read_csv(r'/media/sean/1TB Drive/Data/mal2vuln/mal/mal/metadata.csv')\n",
    "ben = pd.read_csv(r'/media/sean/1TB Drive/Data/mal2vuln/mal/ben/metadata.csv')"
   ]
  },
  {
   "cell_type": "markdown",
   "id": "545fdf84-ff09-46d8-af96-8f7ca8f9d59b",
   "metadata": {},
   "source": [
    "### File Size Comparison"
   ]
  },
  {
   "cell_type": "code",
   "execution_count": 37,
   "id": "fd9281b1-20df-473d-842e-5dd13e46ed39",
   "metadata": {},
   "outputs": [
    {
     "data": {
      "image/png": "[encoded data removed]",
      "text/plain": [
       "<Figure size 800x600 with 1 Axes>"
      ]
     },
     "metadata": {},
     "output_type": "display_data"
    }
   ],
   "source": [
    "fig, ax = plt.subplots(figsize=(8,6))\n",
    "binwidth=1\n",
    "ax.hist(\n",
    "    mal.size_MB, \n",
    "    bins=range(int(min(mal.size_MB)), int(max(mal.size_MB)) + binwidth, binwidth), \n",
    "    density=True, \n",
    "    alpha=0.5, \n",
    "    label='Malware'\n",
    ")\n",
    "ax.hist(\n",
    "    ben.size_MB, \n",
    "    bins=range(int(min(ben.size_MB)), int(max(ben.size_MB)) + binwidth, binwidth), \n",
    "    density=True, \n",
    "    alpha=0.5, \n",
    "    label='Benign'\n",
    ")\n",
    "ax.set_xlim([mal.size_MB.min(),2*mal.size_MB.max()])\n",
    "ax.set_yscale('log')\n",
    "plt.xlabel('File Size (MB)')\n",
    "plt.ylabel('Log Density')\n",
    "plt.legend()\n",
    "plt.show()"
   ]
  },
  {
   "cell_type": "code",
   "execution_count": 46,
   "id": "c2828b96-e9b9-4158-be67-3daf8b405154",
   "metadata": {},
   "outputs": [
    {
     "data": {
      "text/plain": [
       "0.013290568110483365"
      ]
     },
     "execution_count": 46,
     "metadata": {},
     "output_type": "execute_result"
    }
   ],
   "source": [
    "len(ben[ben.size_MB>max(mal.size_MB)])/len(ben)"
   ]
  },
  {
   "cell_type": "code",
   "execution_count": null,
   "id": "d31034d3-cfc7-433c-97d2-108dd11143bc",
   "metadata": {},
   "outputs": [],
   "source": []
  },
  {
   "cell_type": "markdown",
   "id": "f468530a-d335-4c1c-a920-3185187ba050",
   "metadata": {},
   "source": [
    "### File Type Comparison"
   ]
  },
  {
   "cell_type": "code",
   "execution_count": 41,
   "id": "7e435355-566d-4d80-bcd1-f8264815190c",
   "metadata": {
    "scrolled": true
   },
   "outputs": [],
   "source": [
    "only_mal = set(mal.file_type.unique()).difference(set(ben.file_type.unique()))\n",
    "only_ben = set(ben.file_type.unique()).difference(set(mal.file_type.unique()))\n",
    "both = set(ben.file_type.unique()).intersection(set(mal.file_type.unique()))"
   ]
  },
  {
   "cell_type": "code",
   "execution_count": 42,
   "id": "0296f935-6b4b-4688-b351-adb45870eb01",
   "metadata": {},
   "outputs": [
    {
     "name": "stdout",
     "output_type": "stream",
     "text": [
      "Only Mal %: 0.04907710130003862\n",
      "Both Mal %: 0.9509228986999614\n"
     ]
    }
   ],
   "source": [
    "print('Only Mal %:', len(mal[mal.file_type.isin(only_mal)])/len(mal))\n",
    "print('Both Mal %:', len(mal[mal.file_type.isin(both)])/len(mal))"
   ]
  },
  {
   "cell_type": "code",
   "execution_count": 43,
   "id": "201a6205-a9a9-4df3-a74b-2743a7dd5261",
   "metadata": {},
   "outputs": [
    {
     "name": "stdout",
     "output_type": "stream",
     "text": [
      "Only Ben %: 0.046669020715630886\n",
      "Both Ben %: 0.9533309792843692\n"
     ]
    }
   ],
   "source": [
    "print('Only Ben %:', len(ben[ben.file_type.isin(only_ben)])/len(ben))\n",
    "print('Both Ben %:', len(ben[ben.file_type.isin(both)])/len(ben))"
   ]
  },
  {
   "cell_type": "code",
   "execution_count": null,
   "id": "ee094dab-4dcf-4677-bd5f-cb0b01defbef",
   "metadata": {},
   "outputs": [],
   "source": []
  },
  {
   "cell_type": "code",
   "execution_count": null,
   "id": "b61f4e4e-698c-48d8-bf5d-ae216f9eb165",
   "metadata": {},
   "outputs": [],
   "source": []
  },
  {
   "cell_type": "code",
   "execution_count": null,
   "id": "bc814465-a7b6-4cd6-9e6e-ce1d8dd55e8d",
   "metadata": {},
   "outputs": [],
   "source": []
  },
  {
   "cell_type": "code",
   "execution_count": 13,
   "id": "e174a903-894e-4ad1-b176-6b4d9e44765d",
   "metadata": {},
   "outputs": [
    {
     "data": {
      "text/html": [
       "<div>\n",
       "<style scoped>\n",
       "    .dataframe tbody tr th:only-of-type {\n",
       "        vertical-align: middle;\n",
       "    }\n",
       "\n",
       "    .dataframe tbody tr th {\n",
       "        vertical-align: top;\n",
       "    }\n",
       "\n",
       "    .dataframe thead th {\n",
       "        text-align: right;\n",
       "    }\n",
       "</style>\n",
       "<table border=\"1\" class=\"dataframe\">\n",
       "  <thead>\n",
       "    <tr style=\"text-align: right;\">\n",
       "      <th></th>\n",
       "      <th>Unnamed: 0</th>\n",
       "      <th>file_name</th>\n",
       "      <th>sha256_hash</th>\n",
       "      <th>size_MB</th>\n",
       "      <th>file_type</th>\n",
       "    </tr>\n",
       "  </thead>\n",
       "  <tbody>\n",
       "    <tr>\n",
       "      <th>0</th>\n",
       "      <td>0</td>\n",
       "      <td>AMS-MailBoxDrv.sys</td>\n",
       "      <td>c8d3ea847f70ac079d8911c72258e911f3f26d241700b5...</td>\n",
       "      <td>0.119370</td>\n",
       "      <td>PE32+ executable (native) x86-64, for MS Windo...</td>\n",
       "    </tr>\n",
       "    <tr>\n",
       "      <th>1</th>\n",
       "      <td>1</td>\n",
       "      <td>amd3dvcachesvc.exe</td>\n",
       "      <td>e5c28679891ad93ca56f1ad844dff1ff29941be877fb22...</td>\n",
       "      <td>0.147392</td>\n",
       "      <td>PE32+ executable (console) x86-64, for MS Wind...</td>\n",
       "    </tr>\n",
       "    <tr>\n",
       "      <th>2</th>\n",
       "      <td>2</td>\n",
       "      <td>amd3dvcache.sys</td>\n",
       "      <td>fa6187566f7f61d4872215bf7ce61b8234f4d9be33bfaa...</td>\n",
       "      <td>0.038658</td>\n",
       "      <td>PE32+ executable (native) x86-64, for MS Windo...</td>\n",
       "    </tr>\n",
       "    <tr>\n",
       "      <th>3</th>\n",
       "      <td>3</td>\n",
       "      <td>amd3dvcacheuser.exe</td>\n",
       "      <td>f9b61d03dd32d701dcd167f2354ef22d9ca36ec2429eb7...</td>\n",
       "      <td>0.145927</td>\n",
       "      <td>PE32+ executable (GUI) x86-64, for MS Windows,...</td>\n",
       "    </tr>\n",
       "    <tr>\n",
       "      <th>4</th>\n",
       "      <td>4</td>\n",
       "      <td>ZenProMnf.sys</td>\n",
       "      <td>ed7f85a4d8286148ca9fa7d6304ec2f1baa08314cb85ed...</td>\n",
       "      <td>0.055061</td>\n",
       "      <td>PE32+ executable (native) x86-64, for MS Windo...</td>\n",
       "    </tr>\n",
       "    <tr>\n",
       "      <th>...</th>\n",
       "      <td>...</td>\n",
       "      <td>...</td>\n",
       "      <td>...</td>\n",
       "      <td>...</td>\n",
       "      <td>...</td>\n",
       "    </tr>\n",
       "    <tr>\n",
       "      <th>101947</th>\n",
       "      <td>101947</td>\n",
       "      <td>mfc80FRA.dll</td>\n",
       "      <td>e283b055a0b9f522ff415b78f100542255aa07cb17c1ee...</td>\n",
       "      <td>0.058594</td>\n",
       "      <td>PE32 executable (DLL) (GUI) Intel 80386, for M...</td>\n",
       "    </tr>\n",
       "    <tr>\n",
       "      <th>101948</th>\n",
       "      <td>101948</td>\n",
       "      <td>mfc80ITA.dll</td>\n",
       "      <td>6498ee1449b61b40e2dab46f0b3dfa15f17590d7aa8791...</td>\n",
       "      <td>0.058594</td>\n",
       "      <td>PE32 executable (DLL) (GUI) Intel 80386, for M...</td>\n",
       "    </tr>\n",
       "    <tr>\n",
       "      <th>101949</th>\n",
       "      <td>101949</td>\n",
       "      <td>mfc80JPN.dll</td>\n",
       "      <td>ed296b3dd004c8845a7015a3a5ef3a92331e30535204a0...</td>\n",
       "      <td>0.046875</td>\n",
       "      <td>PE32 executable (DLL) (GUI) Intel 80386, for M...</td>\n",
       "    </tr>\n",
       "    <tr>\n",
       "      <th>101950</th>\n",
       "      <td>101950</td>\n",
       "      <td>mfc80KOR.dll</td>\n",
       "      <td>a6d0b3d20e67c26f7c247f2eeb8dba723b396b118a1b9e...</td>\n",
       "      <td>0.046875</td>\n",
       "      <td>PE32 executable (DLL) (GUI) Intel 80386, for M...</td>\n",
       "    </tr>\n",
       "    <tr>\n",
       "      <th>101951</th>\n",
       "      <td>101951</td>\n",
       "      <td>vcomp.dll</td>\n",
       "      <td>2ea4098722586932acf9b180374b019ed6d64698253923...</td>\n",
       "      <td>0.062500</td>\n",
       "      <td>PE32 executable (DLL) (GUI) Intel 80386, for M...</td>\n",
       "    </tr>\n",
       "  </tbody>\n",
       "</table>\n",
       "<p>101952 rows × 5 columns</p>\n",
       "</div>"
      ],
      "text/plain": [
       "        Unnamed: 0            file_name  \\\n",
       "0                0   AMS-MailBoxDrv.sys   \n",
       "1                1   amd3dvcachesvc.exe   \n",
       "2                2      amd3dvcache.sys   \n",
       "3                3  amd3dvcacheuser.exe   \n",
       "4                4        ZenProMnf.sys   \n",
       "...            ...                  ...   \n",
       "101947      101947         mfc80FRA.dll   \n",
       "101948      101948         mfc80ITA.dll   \n",
       "101949      101949         mfc80JPN.dll   \n",
       "101950      101950         mfc80KOR.dll   \n",
       "101951      101951            vcomp.dll   \n",
       "\n",
       "                                              sha256_hash   size_MB  \\\n",
       "0       c8d3ea847f70ac079d8911c72258e911f3f26d241700b5...  0.119370   \n",
       "1       e5c28679891ad93ca56f1ad844dff1ff29941be877fb22...  0.147392   \n",
       "2       fa6187566f7f61d4872215bf7ce61b8234f4d9be33bfaa...  0.038658   \n",
       "3       f9b61d03dd32d701dcd167f2354ef22d9ca36ec2429eb7...  0.145927   \n",
       "4       ed7f85a4d8286148ca9fa7d6304ec2f1baa08314cb85ed...  0.055061   \n",
       "...                                                   ...       ...   \n",
       "101947  e283b055a0b9f522ff415b78f100542255aa07cb17c1ee...  0.058594   \n",
       "101948  6498ee1449b61b40e2dab46f0b3dfa15f17590d7aa8791...  0.058594   \n",
       "101949  ed296b3dd004c8845a7015a3a5ef3a92331e30535204a0...  0.046875   \n",
       "101950  a6d0b3d20e67c26f7c247f2eeb8dba723b396b118a1b9e...  0.046875   \n",
       "101951  2ea4098722586932acf9b180374b019ed6d64698253923...  0.062500   \n",
       "\n",
       "                                                file_type  \n",
       "0       PE32+ executable (native) x86-64, for MS Windo...  \n",
       "1       PE32+ executable (console) x86-64, for MS Wind...  \n",
       "2       PE32+ executable (native) x86-64, for MS Windo...  \n",
       "3       PE32+ executable (GUI) x86-64, for MS Windows,...  \n",
       "4       PE32+ executable (native) x86-64, for MS Windo...  \n",
       "...                                                   ...  \n",
       "101947  PE32 executable (DLL) (GUI) Intel 80386, for M...  \n",
       "101948  PE32 executable (DLL) (GUI) Intel 80386, for M...  \n",
       "101949  PE32 executable (DLL) (GUI) Intel 80386, for M...  \n",
       "101950  PE32 executable (DLL) (GUI) Intel 80386, for M...  \n",
       "101951  PE32 executable (DLL) (GUI) Intel 80386, for M...  \n",
       "\n",
       "[101952 rows x 5 columns]"
      ]
     },
     "execution_count": 13,
     "metadata": {},
     "output_type": "execute_result"
    }
   ],
   "source": [
    "ben"
   ]
  },
  {
   "cell_type": "code",
   "execution_count": null,
   "id": "e73723e5-a325-4326-9f57-1116c96b4265",
   "metadata": {},
   "outputs": [],
   "source": []
  }
 ],
 "metadata": {
  "kernelspec": {
   "display_name": "Python 3 (ipykernel)",
   "language": "python",
   "name": "python3"
  },
  "language_info": {
   "codemirror_mode": {
    "name": "ipython",
    "version": 3
   },
   "file_extension": ".py",
   "mimetype": "text/x-python",
   "name": "python",
   "nbconvert_exporter": "python",
   "pygments_lexer": "ipython3",
   "version": "3.12.2"
  }
 },
 "nbformat": 4,
 "nbformat_minor": 5
}
